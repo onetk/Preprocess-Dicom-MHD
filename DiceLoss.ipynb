{
 "cells": [
  {
   "cell_type": "markdown",
   "metadata": {},
   "source": [
    "## Dice誤差の算出"
   ]
  },
  {
   "cell_type": "markdown",
   "metadata": {},
   "source": [
    "### 検証"
   ]
  },
  {
   "cell_type": "code",
   "execution_count": null,
   "metadata": {},
   "outputs": [],
   "source": [
    "!ls ../pix2pix-tensorflow-141/CT2edges_test/images"
   ]
  },
  {
   "cell_type": "code",
   "execution_count": 36,
   "metadata": {},
   "outputs": [
    {
     "data": {
      "text/plain": [
       "['../pix2pix-tensorflow-141/CT2edges_test/images/S0-0-outputs.png',\n",
       " '../pix2pix-tensorflow-141/CT2edges_test/images/S0-1-outputs.png',\n",
       " '../pix2pix-tensorflow-141/CT2edges_test/images/S0-2-outputs.png',\n",
       " '../pix2pix-tensorflow-141/CT2edges_test/images/S0-3-outputs.png',\n",
       " '../pix2pix-tensorflow-141/CT2edges_test/images/S0-4-outputs.png',\n",
       " '../pix2pix-tensorflow-141/CT2edges_test/images/S0-5-outputs.png',\n",
       " '../pix2pix-tensorflow-141/CT2edges_test/images/S0-6-outputs.png',\n",
       " '../pix2pix-tensorflow-141/CT2edges_test/images/S0-7-outputs.png',\n",
       " '../pix2pix-tensorflow-141/CT2edges_test/images/S0-8-outputs.png',\n",
       " '../pix2pix-tensorflow-141/CT2edges_test/images/S0-9-outputs.png']"
      ]
     },
     "execution_count": 36,
     "metadata": {},
     "output_type": "execute_result"
    }
   ],
   "source": [
    "import glob\n",
    "from natsort import natsorted\n",
    "\n",
    "files = natsorted(glob.glob(\"../pix2pix-tensorflow-141/CT2edges_test/images/*outputs.png\"))[:10]\n",
    "files"
   ]
  },
  {
   "cell_type": "code",
   "execution_count": 40,
   "metadata": {},
   "outputs": [
    {
     "data": {
      "text/plain": [
       "<matplotlib.image.AxesImage at 0x7fd1b016d668>"
      ]
     },
     "execution_count": 40,
     "metadata": {},
     "output_type": "execute_result"
    },
    {
     "data": {
      "image/png": "[encoded data removed]",
      "text/plain": [
       "<Figure size 432x288 with 1 Axes>"
      ]
     },
     "metadata": {
      "needs_background": "light"
     },
     "output_type": "display_data"
    }
   ],
   "source": [
    "import cv2\n",
    "import matplotlib.pyplot as plt\n",
    "%matplotlib inline\n",
    "\n",
    "\n",
    "img_output = cv2.imread(files[0], cv2.IMREAD_GRAYSCALE)\n",
    "img_target = cv2.imread(files[0].replace('outputs','targets'), cv2.IMREAD_GRAYSCALE)\n",
    "img_results= cv2.hconcat([img_output,img_target])\n",
    "plt.imshow(img_results)\n"
   ]
  },
  {
   "cell_type": "code",
   "execution_count": 46,
   "metadata": {},
   "outputs": [
    {
     "data": {
      "text/plain": [
       "0.602374464772285"
      ]
     },
     "execution_count": 46,
     "metadata": {},
     "output_type": "execute_result"
    }
   ],
   "source": [
    "import numpy as np\n",
    "\n",
    "def Dice_loss(out, target):\n",
    "    im1 = np.asarray(out).astype(np.bool)\n",
    "    im2 = np.asarray(target).astype(np.bool)\n",
    "\n",
    "    if im1.shape != im2.shape:\n",
    "        raise ValueError(\"Shape mismatch at input 2 images\")\n",
    "\n",
    "    im_sum = im1.sum() + im2.sum()\n",
    "    if im_sum == 0:\n",
    "        return empty_score\n",
    "\n",
    "    # Compute Dice coefficient\n",
    "    intersection = np.logical_and(im1, im2)\n",
    "    return  intersection.sum() * 2 / im_sum\n",
    "\n",
    "Dice_loss(img_output,img_target)"
   ]
  },
  {
   "cell_type": "markdown",
   "metadata": {},
   "source": [
    "### 指定ファイル全てのLoss検証"
   ]
  },
  {
   "cell_type": "code",
   "execution_count": 52,
   "metadata": {},
   "outputs": [],
   "source": [
    "import pandas as pd\n",
    "\n",
    "files  = natsorted(glob.glob(\"../pix2pix-tensorflow-141/CT2edges_test/images/*outputs.png\"))\n",
    "result = pd.DataFrame([], columns=['Name','DiceScore'])\n",
    "\n",
    "\n",
    "for img in files:\n",
    "    img_output = cv2.imread(img, cv2.IMREAD_GRAYSCALE)\n",
    "    img_target = cv2.imread(img.replace('outputs','targets'), cv2.IMREAD_GRAYSCALE)\n",
    "    Loss = Dice_loss(img_output,img_target)\n",
    "    \n",
    "    in_name  = img.split('/')[-1].split('-')\n",
    "    out_name = '-'.join((in_name[0],in_name[1]))\n",
    "    \n",
    "    addRow = pd.DataFrame([out_name,Loss], index=result.columns).T\n",
    "    result = result.append(addRow)\n",
    "    \n"
   ]
  },
  {
   "cell_type": "code",
   "execution_count": 61,
   "metadata": {},
   "outputs": [
    {
     "name": "stdout",
     "output_type": "stream",
     "text": [
      "count     1222.000000\n",
      "unique    1220.000000\n",
      "top          0.571429\n",
      "freq         2.000000\n",
      "Name: DiceScore, dtype: float64\n",
      "平均 0.5839896952511445\n"
     ]
    }
   ],
   "source": [
    "print(result['DiceScore'].describe())\n",
    "print('平均', result['DiceScore'].mean())"
   ]
  },
  {
   "cell_type": "code",
   "execution_count": null,
   "metadata": {},
   "outputs": [],
   "source": []
  }
 ],
 "metadata": {
  "kernelspec": {
   "display_name": "TF-NT",
   "language": "python",
   "name": "tf-nt"
  },
  "language_info": {
   "codemirror_mode": {
    "name": "ipython",
    "version": 3
   },
   "file_extension": ".py",
   "mimetype": "text/x-python",
   "name": "python",
   "nbconvert_exporter": "python",
   "pygments_lexer": "ipython3",
   "version": "3.6.8"
  }
 },
 "nbformat": 4,
 "nbformat_minor": 2
}
