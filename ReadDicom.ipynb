{
 "cells": [
  {
   "cell_type": "markdown",
   "metadata": {
    "toc-hr-collapsed": false
   },
   "source": [
    "## Check dicom and mhd\n",
    "---"
   ]
  },
  {
   "cell_type": "markdown",
   "metadata": {
    "slideshow": {
     "slide_type": "-"
    }
   },
   "source": [
    "### simple Reading / checking format"
   ]
  },
  {
   "cell_type": "code",
   "execution_count": null,
   "metadata": {},
   "outputs": [],
   "source": [
    "import pydicom\n",
    "import SimpleITK\n",
    "\n",
    "d = pydicom.read_file('./Dicom/L0/SE0/IM0')\n",
    "m = SimpleITK.ReadImage('./mhd/S2.mhd')\n",
    "\n",
    "# print(d)\n",
    "print(\"Dicom Maker >> \", d.Manufacturer)\n",
    "print(\"Dicom Shape >> \", d.pixel_array.shape)\n",
    "\n",
    "# print(m)\n",
    "print(\"mhd Shape >>\", SimpleITK.GetArrayFromImage(m).shape)"
   ]
  },
  {
   "cell_type": "markdown",
   "metadata": {
    "slideshow": {
     "slide_type": "-"
    }
   },
   "source": [
    "### dicom Reading(continuous) / checking lack"
   ]
  },
  {
   "cell_type": "code",
   "execution_count": null,
   "metadata": {
    "slideshow": {
     "slide_type": "-"
    }
   },
   "outputs": [],
   "source": [
    "import glob\n",
    "from natsort import natsorted\n",
    "import numpy as np\n",
    "import traceback\n",
    "\n",
    "# 同じディレクトリにあるdicomファイルを連続したデータに変換する\n",
    "def Read_dicom_boxel(path):\n",
    "    d_names = []\n",
    "    d_names.extend(reversed(natsorted(glob.glob(path+\"*\"))))\n",
    "\n",
    "    ref_dicom = pydicom.read_file(d_names[0])\n",
    "    d_array   = np.zeros((ref_dicom.Rows, ref_dicom.Columns, len(d_names)), dtype=ref_dicom.pixel_array.dtype)\n",
    "    \n",
    "    for d_name in d_names:\n",
    "        try:\n",
    "            d = pydicom.read_file(d_name)\n",
    "            d_array[:, :, d_names.index(d_name)] = d.pixel_array\n",
    "        except: \n",
    "            #traceback.print_exc()\n",
    "            print(\"err >> \", d_name)\n",
    "            \n",
    "    print('_'*5,'Read %s'%path,'_'*2, d_array.shape, '_'*5)\n",
    "    return d_array\n",
    "\n",
    "\n",
    "# 上から順に dicom mhd 教師データ\n",
    "d_array = Read_dicom_boxel('./Dicom/L0/SE0/')\n",
    "m_array = SimpleITK.GetArrayFromImage(m)                                       # ↓ 0が途切れ途切れ, 1が繋がっている\n",
    "t_array = (SimpleITK.GetArrayFromImage(SimpleITK.ReadImage(natsorted(glob.glob('./GroundTruth/L0/*.mhd'))[0])))*255"
   ]
  },
  {
   "cell_type": "markdown",
   "metadata": {
    "toc-hr-collapsed": false
   },
   "source": [
    "### Display dicom and mhd"
   ]
  },
  {
   "cell_type": "code",
   "execution_count": null,
   "metadata": {},
   "outputs": [],
   "source": [
    "from ipywidgets import interact\n",
    "import matplotlib.pyplot as plt\n",
    "\n",
    "plt.figure(figsize=(20, 20), dpi=25)\n",
    "plt.rcParams['figure.figsize'] = (15.0, 5.0)\n",
    "\n",
    "@interact(slices=(0, d_array.shape[2]-1))\n",
    "def plot_rolling_mean(slices=143):\n",
    "    plt.subplot(131)\n",
    "    plt.imshow(d_array[:, :, slices])\n",
    "    plt.title('dicom data')\n",
    "    \n",
    "    plt.subplot(132)\n",
    "    plt.imshow(m_array[slices, :, :])\n",
    "    plt.title('mhd data')\n",
    "    \n",
    "    plt.subplot(133)\n",
    "    plt.imshow(t_array[slices, :, :])\n",
    "    plt.title('ground truth')\n",
    "    \n",
    "#     plt.gray()\n",
    "#     plt.show()\n"
   ]
  },
  {
   "cell_type": "markdown",
   "metadata": {},
   "source": [
    "### display adipose"
   ]
  },
  {
   "cell_type": "code",
   "execution_count": null,
   "metadata": {},
   "outputs": [],
   "source": [
    "import cv2\n",
    "import copy\n",
    "\n",
    "plt.rcParams['figure.figsize'] = (15.0, 5.0)\n",
    "mini = np.min(m_array)\n",
    "maxi = np.max(m_array)\n",
    "\n",
    "@interact(slices=(0, m_array.shape[0]-1), minimum=(mini, maxi),maximum=(mini, maxi))\n",
    "def plot_adipose(slices,minimum=-1900,maximum=2000):\n",
    "    \n",
    "    d_adipose = copy.deepcopy(d_array)             # 論文内だと下記の範囲が脂肪(元は-190~-30)\n",
    "    d_adipose[d_adipose < minimum] = 0          #  ---- | -250 | +++++++++++++++++++\n",
    "    d_adipose[d_adipose > maximum] = 0          #  +++++++++++++++++++++| -30 | ----\n",
    "    \n",
    "    m_adipose = copy.deepcopy(m_array)             # 論文内だと下記の範囲が脂肪(元は-190~-30)\n",
    "    m_adipose[m_adipose < minimum] = 0          #  ---- | -250 | +++++++++++++++++++\n",
    "    m_adipose[m_adipose > maximum] = 0          #  +++++++++++++++++++++| -30 | ----\n",
    "    \n",
    "    plt.subplot(131)\n",
    "    plt.imshow((d_adipose[ :, :, 163]))\n",
    "    plt.title('dicom data')\n",
    "    \n",
    "    plt.subplot(132)\n",
    "    plt.imshow(cv2.bitwise_not(m_adipose[163, :, : ]))\n",
    "    plt.title('mhd data')\n",
    "    \n",
    "    plt.subplot(133)\n",
    "    plt.imshow(t_array[163, :, :])\n",
    "    plt.title('ground truth')\n",
    "\n",
    "    #cv2.bitwise_not"
   ]
  },
  {
   "cell_type": "markdown",
   "metadata": {},
   "source": [
    "## Make train/test folder for U-Net"
   ]
  },
  {
   "cell_type": "code",
   "execution_count": null,
   "metadata": {},
   "outputs": [],
   "source": [
    "import os\n",
    "import shutil\n",
    "\n",
    "\n",
    "normal_mhd_dir = './mhd/*.mhd'\n",
    "GT_mhd_dir   = './GroundTruth/*/*[!2].mhd'\n",
    "UNet_mhd_dir = './U-Net_DataSet/'\n",
    "\n",
    "if not os.path.exists(UNet_mhd_dir): \n",
    "    os.makedirs(UNet_mhd_dir+'origin')\n",
    "    os.makedirs(UNet_mhd_dir+'train/input')\n",
    "    os.makedirs(UNet_mhd_dir+'train/target')\n",
    "    os.makedirs(UNet_mhd_dir+'test/input')\n",
    "    os.makedirs(UNet_mhd_dir+'test/target')\n",
    "\n",
    "# UNet_mhd_dir の originディレクトリに集約\n",
    "for normal_mhd in natsorted(glob.glob(normal_mhd_dir)):\n",
    "    shutil.copyfile(normal_mhd, UNet_mhd_dir+'origin/'+normal_mhd.split('/')[-1])\n",
    "for GT_mhd in natsorted(glob.glob(GT_mhd_dir)):\n",
    "    shutil.copyfile(GT_mhd, UNet_mhd_dir+'origin/'+GT_mhd.split('/')[-2]+'_GT.mhd')\n",
    "\n",
    "# 集約したoriginファイルから探索\n",
    "mhd_list = natsorted(glob.glob(UNet_mhd_dir+'origin/*_GT.mhd'))\n",
    "train_percentage = 0.8\n",
    "\n",
    "for origin_GT_mhd in mhd_list[: int(len(mhd_list)*train_percentage)]:\n",
    "    shutil.copyfile(origin_GT_mhd, UNet_mhd_dir+'train/target/' + origin_GT_mhd.split('/')[-1])\n",
    "    shutil.copyfile(origin_GT_mhd.replace('_GT',''), UNet_mhd_dir+'train/input/' + origin_GT_mhd.split('/')[-1].replace('_GT',''))\n",
    "\n",
    "for origin_GT_mhd in mhd_list[int(len(mhd_list)*train_percentage) :]:\n",
    "    shutil.copyfile(origin_GT_mhd, UNet_mhd_dir+'test/target/' + origin_GT_mhd.split('/')[-1])\n",
    "    shutil.copyfile(origin_GT_mhd.replace('_GT',''), UNet_mhd_dir+'test/input/' + origin_GT_mhd.split('/')[-1].replace('_GT',''))"
   ]
  },
  {
   "cell_type": "code",
   "execution_count": null,
   "metadata": {},
   "outputs": [],
   "source": []
  },
  {
   "cell_type": "markdown",
   "metadata": {},
   "source": [
    "## ----------------------\n",
    "↓ this is for pix2pix / case of using png image at input"
   ]
  },
  {
   "cell_type": "markdown",
   "metadata": {
    "toc-hr-collapsed": false
   },
   "source": [
    "## Read continuous slices\n",
    "---"
   ]
  },
  {
   "cell_type": "code",
   "execution_count": null,
   "metadata": {},
   "outputs": [],
   "source": [
    "import os\n",
    "\n",
    "def Canny_filter(use_array):\n",
    "    # Cannyを使う際にdatatypeに少し注意 -> hconcatでも同じdatatype必要に\n",
    "    return cv2.Canny(np.uint8(use_array),10,100)\n",
    "\n",
    "def Laplacian_filter(use_array):\n",
    "    # Laplacianはノイズがひどい\n",
    "    return np.uint8(cv2.Laplacian(np.uint8(use_array), cv2.CV_32F))\n",
    "\n",
    "def load_itk(filename):\n",
    "    # Reads the image using SimpleITK\n",
    "    itkimage = SimpleITK.ReadImage(filename)\n",
    "    # 0-1なので255倍に / Convert the image to a  numpy array first and then shuffle the dimensions to get axis in the order z,y,x\n",
    "    ct_scan = (SimpleITK.GetArrayFromImage(itkimage))*255\n",
    "    # Read the origin of the ct_scan, will be used to convert the coordinates from world to voxel and vice versa.\n",
    "    #origin = np.array(list(reversed(itkimage.GetOrigin())))\n",
    "    # Read the spacing along each dimension\n",
    "    #spacing = np.array(list(reversed(itkimage.GetSpacing())))\n",
    "\n",
    "    return ct_scan\n",
    "\n",
    "\n",
    "def Save_dicom2image(d_array):\n",
    "    # make directory\n",
    "    save_dir = dir_name.replace('Dicom','png')\n",
    "    gt_path  = dir_name.replace('Dicom','GroundTruth')+'/*.mhd'\n",
    "    \n",
    "    # adjust dicom value(-2000~3000) to png value(0~256)\n",
    "    d_array = d_array - np.min(d_array)\n",
    "    d_array = (d_array / np.max(d_array) *256).astype('int64')\n",
    " \n",
    "    try:\n",
    "        if not os.path.exists(save_dir): os.makedirs(save_dir)\n",
    "        \n",
    "        gt_array = load_itk(natsorted(glob.glob(gt_path))[1])\n",
    "        for slices in range(d_array.shape[2]):\n",
    "            imgs = cv2.hconcat([ np.uint8(d_array[:,:,slices]), np.uint8(gt_array[slices,:,:]) ])\n",
    "            cv2.imwrite(save_dir+'/'+str(slices)+'.png', cv2.cvtColor(imgs, cv2.COLOR_GRAY2BGR))\n",
    "    except:                    \n",
    "        #traceback.print_exc()\n",
    "        print(\"err >> \", gt_path)\n",
    "        "
   ]
  },
  {
   "cell_type": "code",
   "execution_count": null,
   "metadata": {},
   "outputs": [],
   "source": [
    "dicom_dir = './Dicom/*'\n",
    "gt_dir = './GroundTruth/*/*.mhd'\n",
    "\n",
    "\n",
    "for dir_name in natsorted(glob.glob(dicom_dir)):\n",
    "    Save_dicom2image(Read_dicom_boxel(dir_name+\"/*/\"))"
   ]
  },
  {
   "cell_type": "markdown",
   "metadata": {},
   "source": [
    "## Make Train / Val directory"
   ]
  },
  {
   "cell_type": "code",
   "execution_count": null,
   "metadata": {},
   "outputs": [],
   "source": [
    "import shutil\n",
    "\n",
    "root_dir = './'\n",
    "\n",
    "if not os.path.exists(root_dir+'train'): os.makedirs(root_dir+'train')\n",
    "if not os.path.exists(root_dir+'val'): os.makedirs(root_dir+'val')\n",
    "\n",
    "for png_file_path in natsorted(glob.glob(root_dir+'png/*'))[:12]:\n",
    "    for png_img_path in natsorted(glob.glob(png_file_path+\"/*\")):\n",
    "        each_dir = png_img_path.split('/')\n",
    "        shutil.copyfile(png_img_path, root_dir+'train/'+each_dir[-2]+'-'+each_dir[-1])\n",
    "        \n",
    "for png_file_path in natsorted(glob.glob(root_dir+'png/*'))[12:]:\n",
    "    for png_img_path in natsorted(glob.glob(png_file_path+\"/*\")):\n",
    "        each_dir = png_img_path.split('/')\n",
    "        shutil.copyfile(png_img_path, root_dir+'val/'+each_dir[-2]+'-'+each_dir[-1])"
   ]
  },
  {
   "cell_type": "markdown",
   "metadata": {},
   "source": [
    "## 今後すること\n",
    "---"
   ]
  },
  {
   "cell_type": "markdown",
   "metadata": {},
   "source": [
    "精度検証\n",
    "\n",
    "データ拡張(2万枚くらいに)\n",
    "- コントラスト変化\n",
    "- ノイズ追加\n",
    "- \n",
    "\n"
   ]
  },
  {
   "cell_type": "code",
   "execution_count": null,
   "metadata": {},
   "outputs": [],
   "source": [
    "import glob, SimpleITK\n",
    "from natsort import natsorted\n",
    "\n",
    "mhd_files = natsorted(glob.glob('../Preprocess/GroundTruth/'+'*/*[!2].mhd'))\n",
    "images = SimpleITK.GetArrayFromImage(SimpleITK.ReadImage(mhd_files[0]))\n",
    "image_each_length = images.shape[0]\n",
    "\n",
    "for mhd_name in mhd_files:\n",
    "    mhd_array = SimpleITK.GetArrayFromImage(SimpleITK.ReadImage(mhd_name))\n",
    "    images = np.append(images,mhd_array,axis=0)\n",
    "    image_each_length = np.append(image_each_length,mhd_array.shape[0])\n",
    "\n",
    "print(images.shape, image_each_length)"
   ]
  },
  {
   "cell_type": "code",
   "execution_count": null,
   "metadata": {},
   "outputs": [],
   "source": [
    "from ipywidgets import interact\n",
    "import matplotlib.pyplot as plt\n",
    "\n",
    "\n",
    "plt.figure(figsize=(20, 20), dpi=25)\n",
    "plt.rcParams['figure.figsize'] = (15.0, 10.0)\n",
    "\n",
    "@interact(slices=(0, max(image_each_length)), case1=(0,len(image_each_length)-2), case2=(0,len(image_each_length)-2))\n",
    "def plot_rolling_mean(slices,case1=0,case2=10):\n",
    "    \n",
    "    case1_slice = images[np.sum(image_each_length[:case1]):np.sum(image_each_length[:case1])+image_each_length[case1]]\n",
    "    case2_slice = images[np.sum(image_each_length[:case2]):np.sum(image_each_length[:case2])+image_each_length[case2]]\n",
    "\n",
    "    plt.subplot(121)\n",
    "    plt.imshow(case1_slice[ slices,:, : ])\n",
    "    plt.title('#'+str(case1)+\"  \"+mhd_files[case1].replace(\"../Preprocess/GroundTruth/\",\"\"))\n",
    "    \n",
    "    plt.subplot(122)\n",
    "    plt.imshow(case2_slice[ slices, :, :])\n",
    "    plt.title('#'+str(case2)+\"  \"+mhd_files[case2].replace(\"../Preprocess/GroundTruth/\",\"\"))\n",
    "    \n",
    "#     plt.gray()\n",
    "#     plt.show()\n"
   ]
  },
  {
   "cell_type": "code",
   "execution_count": null,
   "metadata": {},
   "outputs": [],
   "source": []
  }
 ],
 "metadata": {
  "kernelspec": {
   "display_name": "TF-NT",
   "language": "python",
   "name": "tf-nt"
  },
  "language_info": {
   "codemirror_mode": {
    "name": "ipython",
    "version": 3
   },
   "file_extension": ".py",
   "mimetype": "text/x-python",
   "name": "python",
   "nbconvert_exporter": "python",
   "pygments_lexer": "ipython3",
   "version": "3.6.8"
  }
 },
 "nbformat": 4,
 "nbformat_minor": 2
}
